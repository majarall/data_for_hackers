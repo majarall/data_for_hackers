{
 "cells": [
  {
   "cell_type": "code",
   "execution_count": 1,
   "metadata": {},
   "outputs": [],
   "source": [
    "# Kmeans \n",
    "from pprint import pprint \n",
    "from typing import *\n",
    "from math import hypot, sqrt, fsum"
   ]
  },
  {
   "cell_type": "markdown",
   "metadata": {},
   "source": [
    "### Function Needs for Kmeans \n",
    "### ------------------------------------\n",
    "\n",
    "- mean(data)\n",
    "- dist(point, point)\n",
    "- assign_data(centroids, points)\n",
    "- compute_centroids(groups)\n",
    "- k_means(points)\n",
    "\n",
    "Big Idead:      K-means is an unsupervised learning tool for identifying\n",
    "                clusters with-in datasets. \n",
    "\n",
    "Algorithim in English:\n",
    "                Pick arbitray points as guesses for the center of each group. Assign all the data points to the closest matching group.\n",
    "                Within each group, average the points to get a new guess for the center of the group. \n",
    "                Repeat multiple times: assign data and average the points. \n",
    "\n",
    "Goal:           Express the idea more cleary and beautifully in Python than in English. \n"
   ]
  },
  {
   "cell_type": "code",
   "execution_count": 3,
   "metadata": {},
   "outputs": [
    {
     "name": "stdout",
     "output_type": "stream",
     "text": [
      "[(10, 41, 23),\n",
      " (22, 30, 29),\n",
      " (11, 42, 5),\n",
      " (20, 32, 4),\n",
      " (12, 40, 12),\n",
      " (21, 36, 23)]\n"
     ]
    }
   ],
   "source": [
    "points = [\n",
    "    (10, 41, 23),\n",
    "    (22, 30, 29),\n",
    "    (11, 42, 5),\n",
    "    (20, 32, 4),\n",
    "    (12, 40, 12),\n",
    "    (21, 36, 23),\n",
    "]\n",
    "\n",
    "pprint(points)"
   ]
  },
  {
   "cell_type": "code",
   "execution_count": null,
   "metadata": {},
   "outputs": [
    {
     "data": {
      "text/plain": [
       "30.333333333333332"
      ]
     },
     "execution_count": 4,
     "metadata": {},
     "output_type": "execute_result"
    }
   ],
   "source": [
    "\n",
    "def mean(data: Iterable[float]) -> float:\n",
    "    \"Accurate arithmetic mean\"\n",
    "    data = list(data)\n",
    "    return fsum(data) / len(data)\n",
    "\n",
    "mean([10, 20, 61])\n"
   ]
  },
  {
   "cell_type": "code",
   "execution_count": null,
   "metadata": {},
   "outputs": [
    {
     "data": {
      "text/plain": [
       "5.0"
      ]
     },
     "execution_count": 11,
     "metadata": {},
     "output_type": "execute_result"
    }
   ],
   "source": [
    "# Make an alias of points\n",
    "Point = Tuple[int, ...]\n",
    "\n",
    "\n",
    "# Optimization go from global import to local imports\n",
    "# by adding sqrt=sqrt, fsum=fsum, zip=zip \n",
    "def dist(p: Point, q: Point, sqrt=sqrt, fsum=fsum, zip=zip) -> float:\n",
    "    \"Ecuclidean distance function for multi-dimensional data\"\n",
    "    return sqrt(fsum([(x - y)**2 for x, y in zip(p, q)]))\n",
    "\n",
    "\n",
    "p = (10,20,30)\n",
    "q = (10,20,35)\n",
    "\n",
    "\n",
    "dist(p,q)"
   ]
  },
  {
   "cell_type": "code",
   "execution_count": 6,
   "metadata": {},
   "outputs": [
    {
     "name": "stdout",
     "output_type": "stream",
     "text": [
      "(10, 41, 23) 3.7416573867739413\n",
      "(22, 30, 29) 18.193405398660254\n",
      "(11, 42, 5) 15.427248620541512\n",
      "(20, 32, 4) 20.639767440550294\n",
      "(12, 40, 12) 8.602325267042627\n",
      "(21, 36, 23) 12.727922061357855\n"
     ]
    }
   ],
   "source": [
    "for point in points:\n",
    "    print(point, dist(point, (9, 39, 20)))"
   ]
  },
  {
   "cell_type": "code",
   "execution_count": 7,
   "metadata": {},
   "outputs": [
    {
     "ename": "NameError",
     "evalue": "name 'dis' is not defined",
     "output_type": "error",
     "traceback": [
      "\u001b[31m---------------------------------------------------------------------------\u001b[39m",
      "\u001b[31mNameError\u001b[39m                                 Traceback (most recent call last)",
      "\u001b[36mCell\u001b[39m\u001b[36m \u001b[39m\u001b[32mIn[7]\u001b[39m\u001b[32m, line 1\u001b[39m\n\u001b[32m----> \u001b[39m\u001b[32m1\u001b[39m \u001b[43mdis\u001b[49m(dist)\n",
      "\u001b[31mNameError\u001b[39m: name 'dis' is not defined"
     ]
    }
   ],
   "source": [
    "dis(dist)"
   ]
  },
  {
   "cell_type": "code",
   "execution_count": 8,
   "metadata": {},
   "outputs": [
    {
     "name": "stdout",
     "output_type": "stream",
     "text": [
      "  7           0 RESUME                   0\n",
      "\n",
      "  9           2 PUSH_NULL\n",
      "              4 LOAD_FAST                2 (sqrt)\n",
      "              6 PUSH_NULL\n",
      "              8 LOAD_FAST                3 (fsum)\n",
      "             10 PUSH_NULL\n",
      "             12 LOAD_FAST                4 (zip)\n",
      "             14 LOAD_FAST                0 (p)\n",
      "             16 LOAD_FAST                1 (q)\n",
      "             18 CALL                     2\n",
      "             26 GET_ITER\n",
      "             28 LOAD_FAST_AND_CLEAR      5 (x)\n",
      "             30 LOAD_FAST_AND_CLEAR      6 (y)\n",
      "             32 SWAP                     3\n",
      "             34 BUILD_LIST               0\n",
      "             36 SWAP                     2\n",
      "        >>   38 FOR_ITER                13 (to 68)\n",
      "             42 UNPACK_SEQUENCE          2\n",
      "             46 STORE_FAST               5 (x)\n",
      "             48 STORE_FAST               6 (y)\n",
      "             50 LOAD_FAST                5 (x)\n",
      "             52 LOAD_FAST                6 (y)\n",
      "             54 BINARY_OP               10 (-)\n",
      "             58 LOAD_CONST               1 (2)\n",
      "             60 BINARY_OP                8 (**)\n",
      "             64 LIST_APPEND              2\n",
      "             66 JUMP_BACKWARD           15 (to 38)\n",
      "        >>   68 END_FOR\n",
      "             70 SWAP                     3\n",
      "             72 STORE_FAST               6 (y)\n",
      "             74 STORE_FAST               5 (x)\n",
      "             76 CALL                     1\n",
      "             84 CALL                     1\n",
      "             92 RETURN_VALUE\n",
      "        >>   94 SWAP                     2\n",
      "             96 POP_TOP\n",
      "             98 SWAP                     3\n",
      "            100 STORE_FAST               6 (y)\n",
      "            102 STORE_FAST               5 (x)\n",
      "            104 RERAISE                  0\n",
      "ExceptionTable:\n",
      "  34 to 68 -> 94 [7]\n"
     ]
    }
   ],
   "source": [
    "from  dis import dis \n",
    "\n",
    "dis(dist)"
   ]
  },
  {
   "cell_type": "code",
   "execution_count": null,
   "metadata": {},
   "outputs": [
    {
     "name": "stdout",
     "output_type": "stream",
     "text": [
      "{(11.0, 41.0, 13.333333333333334): [(10, 41, 23), (11, 42, 5), (12, 40, 12)],\n",
      " (20.0, 32.0, 4.0): [(20, 32, 4)],\n",
      " (21.5, 33.0, 26.0): [(22, 30, 29), (21, 36, 23)]}\n"
     ]
    }
   ],
   "source": [
    "from collections import defaultdict\n",
    "from functools import partial\n",
    "from random import sample\n",
    "\n",
    "Point = Tuple[int, ...]\n",
    "Centroid  = Point\n",
    "\n",
    "def transpose(data):\n",
    "    \"Swap the rows and columns in a 2-D array of data\"\n",
    "    return list(zip(*data))\n",
    "\n",
    "def mean(data: Iterable[float]) -> float:\n",
    "    \"Accurate arithmetic mean\"\n",
    "    data = list(data)\n",
    "    return fsum(data) / len(data)\n",
    "\n",
    "def dist(p: Point, q: Point, sqrt=sqrt, fsum=fsum, zip=zip) -> float:\n",
    "    \"Ecuclidean distance function for multi-dimensional data\"\n",
    "    return sqrt(fsum([(x - y)**2 for x, y in zip(p, q)]))\n",
    "\n",
    "def assign_data(centroids: Sequence[Centroid], data: Iterable[Centroid]) -> Dict[Centroid, List[Point]]:\n",
    "    d = defaultdict(list)\n",
    "    for point in data:\n",
    "        closest_centroid = min(centroids, key=partial(dist, point))\n",
    "        d[closest_centroid].append(point)\n",
    "    return dict(d)\n",
    "\n",
    "def compute_centroids(groups: Iterable[Sequence[Point]]) -> List[Centroid]:\n",
    "    \"Compute the centroid of each group\"\n",
    "    return [tuple(map(mean, transpose(group))) for group in groups]\n",
    "\n",
    "def k_means(data: Iterable[Point], k: int=2, iterations=50) -> List[Centroid]:\n",
    "    data = list(data)\n",
    "    centroids = sample(data, k)\n",
    "    for i in range(iterations):\n",
    "        labeled = assign_data(centroids, data)\n",
    "        centroids = compute_centroids(labeled.values())\n",
    "    return centroids\n",
    "\n",
    "\n",
    "points = [\n",
    "    (10, 41, 23),\n",
    "    (22, 30, 29),\n",
    "    (11, 42, 5),\n",
    "    (20, 32, 4),\n",
    "    (12, 40, 12),\n",
    "    (21, 36, 23),\n",
    "]\n",
    "\n",
    "\n",
    "#centroids = [(9, 39, 20), (12, 36, 25)]\n",
    "#pprint(assign_data(centroids, points), width=45)\n",
    "centroids = k_means(points, k=3)\n",
    "d = assign_data(centroids, points)\n",
    "pprint(d)\n"
   ]
  },
  {
   "cell_type": "code",
   "execution_count": 10,
   "metadata": {},
   "outputs": [],
   "source": [
    "# partial means partial function evaluation\n",
    "from functools import partial\n",
    "\n",
    "# First way: min(centroids, key=lambda centroid: dist(point, centroid))\n",
    "# Second way: min(centroids, key=partial(dist, point))\n",
    "\n"
   ]
  },
  {
   "cell_type": "code",
   "execution_count": null,
   "metadata": {},
   "outputs": [],
   "source": []
  }
 ],
 "metadata": {
  "kernelspec": {
   "display_name": "statistics",
   "language": "python",
   "name": "python3"
  },
  "language_info": {
   "codemirror_mode": {
    "name": "ipython",
    "version": 3
   },
   "file_extension": ".py",
   "mimetype": "text/x-python",
   "name": "python",
   "nbconvert_exporter": "python",
   "pygments_lexer": "ipython3",
   "version": "3.12.9"
  }
 },
 "nbformat": 4,
 "nbformat_minor": 2
}

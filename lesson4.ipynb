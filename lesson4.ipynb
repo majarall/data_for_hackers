{
 "cells": [
  {
   "cell_type": "code",
   "execution_count": 18,
   "metadata": {},
   "outputs": [],
   "source": [
    "# Kmeans \n",
    "from pprint import pprint \n",
    "from typing import *\n",
    "from math import hypot, sqrt, fsum"
   ]
  },
  {
   "cell_type": "code",
   "execution_count": 32,
   "metadata": {},
   "outputs": [],
   "source": [
    "# Function Needs for Kmeans \n",
    "# ------------------------------------\n",
    "\n",
    "# mean(data)\n",
    "# dist(point, point)\n",
    "# assign_data(centroids, points)\n",
    "# compute_centroids(groups)\n",
    "# k_means(points)"
   ]
  },
  {
   "cell_type": "code",
   "execution_count": 19,
   "metadata": {},
   "outputs": [
    {
     "name": "stdout",
     "output_type": "stream",
     "text": [
      "[(10, 41, 23),\n",
      " (22, 30, 29),\n",
      " (11, 42, 5),\n",
      " (20, 32, 4),\n",
      " (12, 40, 12),\n",
      " (21, 36, 23)]\n"
     ]
    }
   ],
   "source": [
    "points = [\n",
    "    (10, 41, 23),\n",
    "    (22, 30, 29),\n",
    "    (11, 42, 5),\n",
    "    (20, 32, 4),\n",
    "    (12, 40, 12),\n",
    "    (21, 36, 23),\n",
    "]\n",
    "\n",
    "pprint(points)"
   ]
  },
  {
   "cell_type": "code",
   "execution_count": 20,
   "metadata": {},
   "outputs": [
    {
     "data": {
      "text/plain": [
       "30.333333333333332"
      ]
     },
     "execution_count": 20,
     "metadata": {},
     "output_type": "execute_result"
    }
   ],
   "source": [
    "\n",
    "def mean(data: Iterable[float]) -> float:\n",
    "    from math import fsum\n",
    "    \"Accurate arithmetic mean\"\n",
    "    data = list(data)\n",
    "    return fsum(data) / len(data)\n",
    "\n",
    "mean([10, 20, 61])\n"
   ]
  },
  {
   "cell_type": "code",
   "execution_count": 31,
   "metadata": {},
   "outputs": [
    {
     "data": {
      "text/plain": [
       "5.0"
      ]
     },
     "execution_count": 31,
     "metadata": {},
     "output_type": "execute_result"
    }
   ],
   "source": [
    "# Make an alias of points\n",
    "Point = Tuple[int, ...]\n",
    "\n",
    "\n",
    "# Optimization go from global import to local imports\n",
    "# by adding sqrt=sqrt, fsum=fsum, zip=zip \n",
    "def dist(p: Point, q: Point, sqrt=sqrt, fsum=fsum, zip=zip) -> float:\n",
    "    \"Ecuclidean distance function for multi-dimensional data\"\n",
    "    return sqrt(fsum([(x - y)**2 for x, y in zip(p, q)]))\n",
    "\n",
    "\n",
    "p = (10,20,30)\n",
    "q = (10,20,35)\n",
    "\n",
    "\n",
    "dist(p,q)"
   ]
  },
  {
   "cell_type": "code",
   "execution_count": 30,
   "metadata": {},
   "outputs": [
    {
     "name": "stdout",
     "output_type": "stream",
     "text": [
      "(10, 41, 23) 3.7416573867739413\n",
      "(22, 30, 29) 18.193405398660254\n",
      "(11, 42, 5) 15.427248620541512\n",
      "(20, 32, 4) 20.639767440550294\n",
      "(12, 40, 12) 8.602325267042627\n",
      "(21, 36, 23) 12.727922061357855\n"
     ]
    }
   ],
   "source": [
    "for point in points:\n",
    "    print(point, dist(point, (9, 39, 20)))"
   ]
  },
  {
   "cell_type": "code",
   "execution_count": 26,
   "metadata": {},
   "outputs": [
    {
     "name": "stdout",
     "output_type": "stream",
     "text": [
      "  5           0 LOAD_FAST                2 (sqrt)\n",
      "              2 LOAD_FAST                3 (fsum)\n",
      "              4 LOAD_CONST               1 (<code object <listcomp> at 0x00000133FBAF0660, file \"C:\\Users\\muj\\AppData\\Local\\Temp\\ipykernel_25568\\2937151640.py\", line 5>)\n",
      "              6 LOAD_CONST               2 ('dist.<locals>.<listcomp>')\n",
      "              8 MAKE_FUNCTION            0\n",
      "             10 LOAD_FAST                4 (zip)\n",
      "             12 LOAD_FAST                0 (p)\n",
      "             14 LOAD_FAST                1 (q)\n",
      "             16 CALL_FUNCTION            2\n",
      "             18 GET_ITER\n",
      "             20 CALL_FUNCTION            1\n",
      "             22 CALL_FUNCTION            1\n",
      "             24 CALL_FUNCTION            1\n",
      "             26 RETURN_VALUE\n",
      "\n",
      "Disassembly of <code object <listcomp> at 0x00000133FBAF0660, file \"C:\\Users\\muj\\AppData\\Local\\Temp\\ipykernel_25568\\2937151640.py\", line 5>:\n",
      "  5           0 BUILD_LIST               0\n",
      "              2 LOAD_FAST                0 (.0)\n",
      "        >>    4 FOR_ITER                10 (to 26)\n",
      "              6 UNPACK_SEQUENCE          2\n",
      "              8 STORE_FAST               1 (x)\n",
      "             10 STORE_FAST               2 (y)\n",
      "             12 LOAD_FAST                1 (x)\n",
      "             14 LOAD_FAST                2 (y)\n",
      "             16 BINARY_SUBTRACT\n",
      "             18 LOAD_CONST               0 (2)\n",
      "             20 BINARY_POWER\n",
      "             22 LIST_APPEND              2\n",
      "             24 JUMP_ABSOLUTE            2 (to 4)\n",
      "        >>   26 RETURN_VALUE\n"
     ]
    }
   ],
   "source": [
    "dis(dist)"
   ]
  },
  {
   "cell_type": "code",
   "execution_count": 24,
   "metadata": {},
   "outputs": [
    {
     "name": "stdout",
     "output_type": "stream",
     "text": [
      "  2           0 LOAD_GLOBAL              0 (sqrt)\n",
      "              2 LOAD_GLOBAL              1 (fsum)\n",
      "              4 LOAD_CONST               1 (<code object <listcomp> at 0x0000013380FEBB50, file \"C:\\Users\\muj\\AppData\\Local\\Temp\\ipykernel_25568\\2912106024.py\", line 2>)\n",
      "              6 LOAD_CONST               2 ('dist.<locals>.<listcomp>')\n",
      "              8 MAKE_FUNCTION            0\n",
      "             10 LOAD_GLOBAL              2 (zip)\n",
      "             12 LOAD_FAST                0 (p)\n",
      "             14 LOAD_FAST                1 (q)\n",
      "             16 CALL_FUNCTION            2\n",
      "             18 GET_ITER\n",
      "             20 CALL_FUNCTION            1\n",
      "             22 CALL_FUNCTION            1\n",
      "             24 CALL_FUNCTION            1\n",
      "             26 RETURN_VALUE\n",
      "\n",
      "Disassembly of <code object <listcomp> at 0x0000013380FEBB50, file \"C:\\Users\\muj\\AppData\\Local\\Temp\\ipykernel_25568\\2912106024.py\", line 2>:\n",
      "  2           0 BUILD_LIST               0\n",
      "              2 LOAD_FAST                0 (.0)\n",
      "        >>    4 FOR_ITER                10 (to 26)\n",
      "              6 UNPACK_SEQUENCE          2\n",
      "              8 STORE_FAST               1 (x)\n",
      "             10 STORE_FAST               2 (y)\n",
      "             12 LOAD_FAST                1 (x)\n",
      "             14 LOAD_FAST                2 (y)\n",
      "             16 BINARY_SUBTRACT\n",
      "             18 LOAD_CONST               0 (2)\n",
      "             20 BINARY_POWER\n",
      "             22 LIST_APPEND              2\n",
      "             24 JUMP_ABSOLUTE            2 (to 4)\n",
      "        >>   26 RETURN_VALUE\n"
     ]
    }
   ],
   "source": [
    "from  dis import dis \n",
    "\n",
    "dis(dist)"
   ]
  },
  {
   "cell_type": "code",
   "execution_count": null,
   "metadata": {},
   "outputs": [
    {
     "name": "stdout",
     "output_type": "stream",
     "text": [
      "defaultdict(<class 'list'>,\n",
      "            {(9, 39, 20): [(10, 41, 23),\n",
      "                           (11, 42, 5),\n",
      "                           (20, 32, 4),\n",
      "                           (12, 40, 12)],\n",
      "             (12, 36, 25): [(22, 30, 29),\n",
      "                            (21, 36, 23)]})\n"
     ]
    }
   ],
   "source": [
    "from collections import defaultdict\n",
    "from functools import partial\n",
    "\n",
    "def assign_data(centroids, data):\n",
    "    d = defaultdict(list)\n",
    "    for point in data:\n",
    "        closest_centroid = min(centroids, key=partial(dist, point))\n",
    "        d[closest_centroid].append(point)\n",
    "    return d\n",
    "\n",
    "\n",
    "def compute_centroids(groups):\n",
    "    \"Compute the centroid of each group\"\n",
    "    return [tuple(map(mean, zip(*group))) for group in groups]\n",
    "\n",
    "\n",
    "centroids = [(9, 39, 20), (12, 36, 25)]\n",
    "pprint(assign_data(centroids, points), width=45)\n"
   ]
  },
  {
   "cell_type": "code",
   "execution_count": null,
   "metadata": {},
   "outputs": [],
   "source": [
    "# partial means partial function evaluation\n",
    "from functools import partial\n",
    "\n",
    "# First way: min(centroids, key=lambda centroid: dist(point, centroid))\n",
    "# Second way: min(centroids, key=partial(dist, point))\n",
    "\n"
   ]
  }
 ],
 "metadata": {
  "kernelspec": {
   "display_name": "modernpython",
   "language": "python",
   "name": "python3"
  },
  "language_info": {
   "codemirror_mode": {
    "name": "ipython",
    "version": 3
   },
   "file_extension": ".py",
   "mimetype": "text/x-python",
   "name": "python",
   "nbconvert_exporter": "python",
   "pygments_lexer": "ipython3",
   "version": "3.10.16"
  }
 },
 "nbformat": 4,
 "nbformat_minor": 2
}

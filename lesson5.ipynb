{
 "cells": [
  {
   "cell_type": "code",
   "execution_count": 3,
   "metadata": {},
   "outputs": [],
   "source": [
    "from collections import defaultdict\n",
    "from pprint import pprint"
   ]
  },
  {
   "cell_type": "code",
   "execution_count": null,
   "metadata": {},
   "outputs": [
    {
     "name": "stdout",
     "output_type": "stream",
     "text": [
      "defaultdict(<class 'list'>,\n",
      "            {'matthew': ['yellow'],\n",
      "             'rachel': ['black'],\n",
      "             'raymond': ['red']})\n",
      "defaultdict(<class 'list'>,\n",
      "            {'matthew': ['yellow', 'pc'],\n",
      "             'rachel': ['black', 'pc'],\n",
      "             'raymond': ['red', 'mac']})\n",
      "{'matthew': ['yellow', 'pc'],\n",
      " 'rachel': ['black', 'pc'],\n",
      " 'raymond': ['red', 'mac']}\n"
     ]
    }
   ],
   "source": [
    "# Defaultdict is very useful in the accumelation phase, after we are done convert it to usual dict\n",
    "# Defaultdict: grouping, accumelation \n",
    "# Model one-to-many: dict(one, list_of_many)\n",
    "\n",
    "\n",
    "\n",
    "\n",
    "d = defaultdict(list)\n",
    "d[\"raymond\"].append(\"red\")\n",
    "d[\"rachel\"].append(\"black\")\n",
    "d[\"matthew\"].append(\"yellow\")\n",
    "\n",
    "pprint(d)\n",
    "\n",
    "d[\"raymond\"].append(\"mac\")\n",
    "d[\"rachel\"].append(\"pc\")\n",
    "d[\"matthew\"].append(\"pc\")\n",
    "\n",
    "pprint(d)\n",
    "\n",
    "d = dict(d)\n",
    "\n",
    "pprint(d)"
   ]
  },
  {
   "cell_type": "code",
   "execution_count": 14,
   "metadata": {},
   "outputs": [
    {
     "name": "stdout",
     "output_type": "stream",
     "text": [
      "{'free': ['libre', 'gratis'],\n",
      " 'one': ['uno'],\n",
      " 'three': ['tres'],\n",
      " 'trio': ['tres'],\n",
      " 'two': ['dos']}\n",
      "defaultdict(<class 'list'>,\n",
      "            {'dos': ['two'],\n",
      "             'gratis': ['free'],\n",
      "             'libre': ['free'],\n",
      "             'tres': ['three', 'trio'],\n",
      "             'uno': ['one']})\n",
      "For one-to-one mapping we can use the following\n",
      "{'one': 'uno', 'two': 'dos', 'three': 'tres'}\n",
      "{'uno': 'one', 'dos': 'two', 'tres': 'three'}\n"
     ]
    }
   ],
   "source": [
    "e2s = {\n",
    "    \"one\": [\"uno\"],\n",
    "    \"two\": [\"dos\"],\n",
    "    \"three\": [\"tres\"],\n",
    "    \"trio\": [\"tres\"],\n",
    "    \"free\": [\"libre\", \"gratis\"]\n",
    "}\n",
    "\n",
    "\n",
    "pprint(e2s)\n",
    "\n",
    "s2e = defaultdict(list)\n",
    "\n",
    "for eng, spanwords in e2s.items():\n",
    "    for span in spanwords:\n",
    "        s2e[span].append(eng)\n",
    "\n",
    "pprint(s2e)\n",
    "\n",
    "print(\"For one-to-one mapping we can use the following\")\n",
    "\n",
    "e2s = dict(one=\"uno\", two=\"dos\", three=\"tres\")\n",
    "print(e2s)\n",
    "s2e = {span: eng for eng, span in e2s.items()}\n",
    "print(s2e)\n"
   ]
  },
  {
   "cell_type": "code",
   "execution_count": null,
   "metadata": {},
   "outputs": [
    {
     "data": {
      "text/plain": [
       "['.git', '.mypy_cache']"
      ]
     },
     "execution_count": 15,
     "metadata": {},
     "output_type": "execute_result"
    }
   ],
   "source": [
    "# Glob module \n",
    "import glob \n",
    "\n",
    "glob.glob(\".*\")           # global expansion wildcard "
   ]
  },
  {
   "cell_type": "code",
   "execution_count": 18,
   "metadata": {},
   "outputs": [
    {
     "name": "stdout",
     "output_type": "stream",
     "text": [
      "['Senate Vote #20 2016-02-10T17:11:00 - H.R. 757: North Korea Sanctions Enforcement Act of 2016\\n', 'person,state,district,vote,name,party\\n', '300002,TN,,Yea,Sen. Lamar Alexander [R],Republican\\n', '300011,CA,,Yea,Sen. Barbara Boxer [D],Democrat\\n', '300018,WA,,Yea,Sen. Maria Cantwell [D],Democrat\\n', '300019,DE,,Yea,Sen. Thomas Carper [D],Democrat\\n', '300023,MS,,Yea,Sen. Thad Cochran [R],Republican\\n', '300025,ME,,Yea,Sen. Susan Collins [R],Republican\\n', '300027,TX,,Yea,Sen. John Cornyn [R],Republican\\n', '300030,ID,,Yea,Sen. Michael Crapo [R],Republican\\n', '300038,IL,,Not Voting,Sen. Richard Durbin [D],Democrat\\n', '300041,WY,,Yea,Sen. Michael Enzi [R],Republican\\n', '300043,CA,,Yea,Sen. Dianne Feinstein [D],Democrat\\n', '300047,SC,,Not Voting,Sen. Lindsey Graham [R],Republican\\n', '300048,IA,,Yea,Sen. Charles “Chuck” Grassley [R],Republican\\n', '300052,UT,,Yea,Sen. Orrin Hatch [R],Republican\\n', '300055,OK,,Yea,Sen. James “Jim” Inhofe [R],Republican\\n', '300065,VT,,Yea,Sen. Patrick Leahy [D],Democrat\\n', '300071,AZ,,Yea,Sen. John McCain [R],Republican\\n', '300072,KY,,Yea,Sen. Mitch McConnell [R],Republican\\n', '300073,MD,,Yea,Sen. Barbara Mikulski [D],Democrat\\n', '300075,AK,,Yea,Sen. Lisa Murkowski [R],Republican\\n', '300076,WA,,Yea,Sen. Patty Murray [D],Democrat\\n', '300078,FL,,Yea,Sen. Bill Nelson [D],Democrat\\n', '300081,RI,,Yea,Sen. John “Jack” Reed [D],Democrat\\n', '300082,NV,,Yea,Sen. Harry Reid [D],Democrat\\n', '300083,KS,,Yea,Sen. Pat Roberts [R],Republican\\n', '300087,NY,,Yea,Sen. Charles “Chuck” Schumer [D],Democrat\\n', '300088,AL,,Yea,Sen. Jefferson “Jeff” Sessions [R],Republican\\n', '300089,AL,,Yea,Sen. Richard Shelby [R],Republican\\n', '300093,MI,,Yea,Sen. Debbie Stabenow [D],Democrat\\n', '300100,OR,,Yea,Sen. Ron Wyden [D],Democrat\\n', '400013,WI,,Yea,Sen. Tammy Baldwin [D],Democrat\\n', '400034,MO,,Yea,Sen. Roy Blunt [R],Republican\\n', '400040,AR,,Yea,Sen. John Boozman [R],Republican\\n', '400050,OH,,Yea,Sen. Sherrod Brown [D],Democrat\\n', '400054,NC,,Yea,Sen. Richard Burr [R],Republican\\n', '400061,WV,,Yea,Sen. Shelley Capito [R],Republican\\n', '400064,MD,,Yea,Sen. Benjamin Cardin [D],Democrat\\n', '400134,AZ,,Yea,Sen. Jeff Flake [R],Republican\\n', '400194,GA,,Yea,Sen. John “Johnny” Isakson [R],Republican\\n', '400222,IL,,Yea,Sen. Mark Kirk [R],Republican\\n', '400253,MA,,Yea,Sen. Edward “Ed” Markey [D],Democrat\\n', '400272,NJ,,Yea,Sen. Robert “Bob” Menéndez [D],Democrat\\n', '400284,KS,,Yea,Sen. Jerry Moran [R],Republican\\n', '400325,OH,,Yea,Sen. Robert “Rob” Portman [R],Republican\\n', '400357,VT,,Not Voting,Sen. Bernard “Bernie” Sanders [I],Independent\\n', '400408,PA,,Yea,Sen. Patrick “Pat” Toomey [R],Republican\\n', '400413,NM,,Yea,Sen. Tom Udall [D],Democrat\\n', '400418,LA,,Yea,Sen. David Vitter [R],Republican\\n', '400432,MS,,Yea,Sen. Roger Wicker [R],Republican\\n', '400546,SD,,Yea,Sen. John Thune [R],Republican\\n', '402675,IN,,Yea,Sen. Daniel Coats [R],Republican\\n', '412194,CT,,Yea,Sen. Christopher Murphy [D],Democrat\\n', '412200,HI,,Yea,Sen. Mazie Hirono [D],Democrat\\n', '412205,IN,,Yea,Sen. Joe Donnelly [D],Democrat\\n', '412218,NV,,Yea,Sen. Dean Heller [R],Republican\\n', '412223,NY,,Yea,Sen. Kirsten Gillibrand [D],Democrat\\n', '412242,MN,,Yea,Sen. Amy Klobuchar [D],Democrat\\n', '412243,MO,,Yea,Sen. Claire McCaskill [D],Democrat\\n', '412244,MT,,Yea,Sen. Jon Tester [D],Democrat\\n', '412246,PA,,Yea,Sen. Robert “Bob” Casey Jr. [D],Democrat\\n', '412247,RI,,Yea,Sen. Sheldon Whitehouse [D],Democrat\\n', '412248,TN,,Yea,Sen. Bob Corker [R],Republican\\n', '412251,WY,,Yea,Sen. John Barrasso [R],Republican\\n', '412269,LA,,Yea,Sen. Bill Cassidy [R],Republican\\n', '412281,NM,,Yea,Sen. Martin Heinrich [D],Democrat\\n', '412305,MI,,Yea,Sen. Gary Peters [D],Democrat\\n', '412321,VA,,Yea,Sen. Mark Warner [D],Democrat\\n', '412322,ID,,Yea,Sen. James Risch [R],Republican\\n', '412323,NH,,Yea,Sen. Jeanne Shaheen [D],Democrat\\n', '412325,OR,,Yea,Sen. Jeff Merkley [D],Democrat\\n', '412330,CO,,Yea,Sen. Michael Bennet [D],Democrat\\n', '412378,MN,,Yea,Sen. Alan “Al” Franken [D],Democrat\\n', '412390,DE,,Yea,Sen. Chris Coons [D],Democrat\\n', '412391,WV,,Yea,Sen. Joe Manchin III [D],Democrat\\n', '412406,CO,,Yea,Sen. Cory Gardner [R],Republican\\n', '412464,OK,,Yea,Sen. James Lankford [R],Republican\\n', '412471,SC,,Yea,Sen. Tim Scott [R],Republican\\n', '412490,CT,,Yea,Sen. Richard Blumenthal [D],Democrat\\n', '412491,FL,,Yea,Sen. Marco Rubio [R],Republican\\n', '412492,KY,,Yea,Sen. Rand Paul [R],Republican\\n', '412493,NH,,Yea,Sen. Kelly Ayotte [R],Republican\\n', '412494,ND,,Yea,Sen. John Hoeven [R],Republican\\n', '412495,UT,,Yea,Sen. Mike Lee [R],Republican\\n', '412496,WI,,Yea,Sen. Ron Johnson [R],Republican\\n', '412507,HI,,Yea,Sen. Brian Schatz [D],Democrat\\n', '412508,AR,,Yea,Sen. Tom Cotton [R],Republican\\n', '412542,MA,,Yea,Sen. Elizabeth Warren [D],Democrat\\n', '412545,ME,,Yea,Sen. Angus King [I],Independent\\n', '412549,MT,,Yea,Sen. Steve Daines [R],Republican\\n', '412554,ND,,Yea,Sen. Heidi Heitkamp [D],Democrat\\n', '412556,NE,,Yea,Sen. Deb Fischer [R],Republican\\n', '412573,TX,,Yea,Sen. Ted Cruz [R],Republican\\n', '412582,VA,,Yea,Sen. Timothy Kaine [D],Democrat\\n', '412598,NJ,,Yea,Sen. Cory Booker [D],Democrat\\n', '412665,AK,,Not Voting,Sen. Dan Sullivan [R],Republican\\n', '412666,GA,,Yea,Sen. David Perdue [R],Republican\\n', '412667,IA,,Yea,Sen. Joni Ernst [R],Republican\\n', '412668,NC,,Yea,Sen. Thom Tillis [R],Republican\\n', '412669,SD,,Yea,Sen. Mike Rounds [R],Republican\\n', '412671,NE,,Yea,Sen. Benjamin Sasse [R],Republican\\n']\n"
     ]
    }
   ],
   "source": [
    "with open(\"./congress_data/congress_votes_114-2016_s20.csv\", encoding=\"utf\") as file:\n",
    "    print(file.readlines())"
   ]
  },
  {
   "cell_type": "code",
   "execution_count": null,
   "metadata": {},
   "outputs": [
    {
     "data": {
      "text/plain": [
       "['c', 'd', 'e', 'f', 'g']"
      ]
     },
     "execution_count": 22,
     "metadata": {},
     "output_type": "execute_result"
    }
   ],
   "source": [
    "it = iter(\"abcdefg\")\n",
    "next(it)\n",
    "next(it)\n",
    "list(it)       # notice that the list does not start at a since next consumed the first two letters. "
   ]
  },
  {
   "cell_type": "code",
   "execution_count": 24,
   "metadata": {},
   "outputs": [
    {
     "name": "stdout",
     "output_type": "stream",
     "text": [
      "['Senate Vote #20 2016-02-10T17:11:00 - H.R. 757: North Korea Sanctions Enforcement Act of 2016']\n",
      "['person', 'state', 'district', 'vote', 'name', 'party']\n",
      "['300002', 'TN', '', 'Yea', 'Sen. Lamar Alexander [R]', 'Republican']\n",
      "['300011', 'CA', '', 'Yea', 'Sen. Barbara Boxer [D]', 'Democrat']\n",
      "['300018', 'WA', '', 'Yea', 'Sen. Maria Cantwell [D]', 'Democrat']\n",
      "['300019', 'DE', '', 'Yea', 'Sen. Thomas Carper [D]', 'Democrat']\n",
      "['300023', 'MS', '', 'Yea', 'Sen. Thad Cochran [R]', 'Republican']\n",
      "['300025', 'ME', '', 'Yea', 'Sen. Susan Collins [R]', 'Republican']\n",
      "['300027', 'TX', '', 'Yea', 'Sen. John Cornyn [R]', 'Republican']\n",
      "['300030', 'ID', '', 'Yea', 'Sen. Michael Crapo [R]', 'Republican']\n",
      "['300038', 'IL', '', 'Not Voting', 'Sen. Richard Durbin [D]', 'Democrat']\n",
      "['300041', 'WY', '', 'Yea', 'Sen. Michael Enzi [R]', 'Republican']\n",
      "['300043', 'CA', '', 'Yea', 'Sen. Dianne Feinstein [D]', 'Democrat']\n",
      "['300047', 'SC', '', 'Not Voting', 'Sen. Lindsey Graham [R]', 'Republican']\n",
      "['300048', 'IA', '', 'Yea', 'Sen. Charles “Chuck” Grassley [R]', 'Republican']\n",
      "['300052', 'UT', '', 'Yea', 'Sen. Orrin Hatch [R]', 'Republican']\n",
      "['300055', 'OK', '', 'Yea', 'Sen. James “Jim” Inhofe [R]', 'Republican']\n",
      "['300065', 'VT', '', 'Yea', 'Sen. Patrick Leahy [D]', 'Democrat']\n",
      "['300071', 'AZ', '', 'Yea', 'Sen. John McCain [R]', 'Republican']\n",
      "['300072', 'KY', '', 'Yea', 'Sen. Mitch McConnell [R]', 'Republican']\n",
      "['300073', 'MD', '', 'Yea', 'Sen. Barbara Mikulski [D]', 'Democrat']\n",
      "['300075', 'AK', '', 'Yea', 'Sen. Lisa Murkowski [R]', 'Republican']\n",
      "['300076', 'WA', '', 'Yea', 'Sen. Patty Murray [D]', 'Democrat']\n",
      "['300078', 'FL', '', 'Yea', 'Sen. Bill Nelson [D]', 'Democrat']\n",
      "['300081', 'RI', '', 'Yea', 'Sen. John “Jack” Reed [D]', 'Democrat']\n",
      "['300082', 'NV', '', 'Yea', 'Sen. Harry Reid [D]', 'Democrat']\n",
      "['300083', 'KS', '', 'Yea', 'Sen. Pat Roberts [R]', 'Republican']\n",
      "['300087', 'NY', '', 'Yea', 'Sen. Charles “Chuck” Schumer [D]', 'Democrat']\n",
      "['300088', 'AL', '', 'Yea', 'Sen. Jefferson “Jeff” Sessions [R]', 'Republican']\n",
      "['300089', 'AL', '', 'Yea', 'Sen. Richard Shelby [R]', 'Republican']\n",
      "['300093', 'MI', '', 'Yea', 'Sen. Debbie Stabenow [D]', 'Democrat']\n",
      "['300100', 'OR', '', 'Yea', 'Sen. Ron Wyden [D]', 'Democrat']\n",
      "['400013', 'WI', '', 'Yea', 'Sen. Tammy Baldwin [D]', 'Democrat']\n",
      "['400034', 'MO', '', 'Yea', 'Sen. Roy Blunt [R]', 'Republican']\n",
      "['400040', 'AR', '', 'Yea', 'Sen. John Boozman [R]', 'Republican']\n",
      "['400050', 'OH', '', 'Yea', 'Sen. Sherrod Brown [D]', 'Democrat']\n",
      "['400054', 'NC', '', 'Yea', 'Sen. Richard Burr [R]', 'Republican']\n",
      "['400061', 'WV', '', 'Yea', 'Sen. Shelley Capito [R]', 'Republican']\n",
      "['400064', 'MD', '', 'Yea', 'Sen. Benjamin Cardin [D]', 'Democrat']\n",
      "['400134', 'AZ', '', 'Yea', 'Sen. Jeff Flake [R]', 'Republican']\n",
      "['400194', 'GA', '', 'Yea', 'Sen. John “Johnny” Isakson [R]', 'Republican']\n",
      "['400222', 'IL', '', 'Yea', 'Sen. Mark Kirk [R]', 'Republican']\n",
      "['400253', 'MA', '', 'Yea', 'Sen. Edward “Ed” Markey [D]', 'Democrat']\n",
      "['400272', 'NJ', '', 'Yea', 'Sen. Robert “Bob” Menéndez [D]', 'Democrat']\n",
      "['400284', 'KS', '', 'Yea', 'Sen. Jerry Moran [R]', 'Republican']\n",
      "['400325', 'OH', '', 'Yea', 'Sen. Robert “Rob” Portman [R]', 'Republican']\n",
      "['400357', 'VT', '', 'Not Voting', 'Sen. Bernard “Bernie” Sanders [I]', 'Independent']\n",
      "['400408', 'PA', '', 'Yea', 'Sen. Patrick “Pat” Toomey [R]', 'Republican']\n",
      "['400413', 'NM', '', 'Yea', 'Sen. Tom Udall [D]', 'Democrat']\n",
      "['400418', 'LA', '', 'Yea', 'Sen. David Vitter [R]', 'Republican']\n",
      "['400432', 'MS', '', 'Yea', 'Sen. Roger Wicker [R]', 'Republican']\n",
      "['400546', 'SD', '', 'Yea', 'Sen. John Thune [R]', 'Republican']\n",
      "['402675', 'IN', '', 'Yea', 'Sen. Daniel Coats [R]', 'Republican']\n",
      "['412194', 'CT', '', 'Yea', 'Sen. Christopher Murphy [D]', 'Democrat']\n",
      "['412200', 'HI', '', 'Yea', 'Sen. Mazie Hirono [D]', 'Democrat']\n",
      "['412205', 'IN', '', 'Yea', 'Sen. Joe Donnelly [D]', 'Democrat']\n",
      "['412218', 'NV', '', 'Yea', 'Sen. Dean Heller [R]', 'Republican']\n",
      "['412223', 'NY', '', 'Yea', 'Sen. Kirsten Gillibrand [D]', 'Democrat']\n",
      "['412242', 'MN', '', 'Yea', 'Sen. Amy Klobuchar [D]', 'Democrat']\n",
      "['412243', 'MO', '', 'Yea', 'Sen. Claire McCaskill [D]', 'Democrat']\n",
      "['412244', 'MT', '', 'Yea', 'Sen. Jon Tester [D]', 'Democrat']\n",
      "['412246', 'PA', '', 'Yea', 'Sen. Robert “Bob” Casey Jr. [D]', 'Democrat']\n",
      "['412247', 'RI', '', 'Yea', 'Sen. Sheldon Whitehouse [D]', 'Democrat']\n",
      "['412248', 'TN', '', 'Yea', 'Sen. Bob Corker [R]', 'Republican']\n",
      "['412251', 'WY', '', 'Yea', 'Sen. John Barrasso [R]', 'Republican']\n",
      "['412269', 'LA', '', 'Yea', 'Sen. Bill Cassidy [R]', 'Republican']\n",
      "['412281', 'NM', '', 'Yea', 'Sen. Martin Heinrich [D]', 'Democrat']\n",
      "['412305', 'MI', '', 'Yea', 'Sen. Gary Peters [D]', 'Democrat']\n",
      "['412321', 'VA', '', 'Yea', 'Sen. Mark Warner [D]', 'Democrat']\n",
      "['412322', 'ID', '', 'Yea', 'Sen. James Risch [R]', 'Republican']\n",
      "['412323', 'NH', '', 'Yea', 'Sen. Jeanne Shaheen [D]', 'Democrat']\n",
      "['412325', 'OR', '', 'Yea', 'Sen. Jeff Merkley [D]', 'Democrat']\n",
      "['412330', 'CO', '', 'Yea', 'Sen. Michael Bennet [D]', 'Democrat']\n",
      "['412378', 'MN', '', 'Yea', 'Sen. Alan “Al” Franken [D]', 'Democrat']\n",
      "['412390', 'DE', '', 'Yea', 'Sen. Chris Coons [D]', 'Democrat']\n",
      "['412391', 'WV', '', 'Yea', 'Sen. Joe Manchin III [D]', 'Democrat']\n",
      "['412406', 'CO', '', 'Yea', 'Sen. Cory Gardner [R]', 'Republican']\n",
      "['412464', 'OK', '', 'Yea', 'Sen. James Lankford [R]', 'Republican']\n",
      "['412471', 'SC', '', 'Yea', 'Sen. Tim Scott [R]', 'Republican']\n",
      "['412490', 'CT', '', 'Yea', 'Sen. Richard Blumenthal [D]', 'Democrat']\n",
      "['412491', 'FL', '', 'Yea', 'Sen. Marco Rubio [R]', 'Republican']\n",
      "['412492', 'KY', '', 'Yea', 'Sen. Rand Paul [R]', 'Republican']\n",
      "['412493', 'NH', '', 'Yea', 'Sen. Kelly Ayotte [R]', 'Republican']\n",
      "['412494', 'ND', '', 'Yea', 'Sen. John Hoeven [R]', 'Republican']\n",
      "['412495', 'UT', '', 'Yea', 'Sen. Mike Lee [R]', 'Republican']\n",
      "['412496', 'WI', '', 'Yea', 'Sen. Ron Johnson [R]', 'Republican']\n",
      "['412507', 'HI', '', 'Yea', 'Sen. Brian Schatz [D]', 'Democrat']\n",
      "['412508', 'AR', '', 'Yea', 'Sen. Tom Cotton [R]', 'Republican']\n",
      "['412542', 'MA', '', 'Yea', 'Sen. Elizabeth Warren [D]', 'Democrat']\n",
      "['412545', 'ME', '', 'Yea', 'Sen. Angus King [I]', 'Independent']\n",
      "['412549', 'MT', '', 'Yea', 'Sen. Steve Daines [R]', 'Republican']\n",
      "['412554', 'ND', '', 'Yea', 'Sen. Heidi Heitkamp [D]', 'Democrat']\n",
      "['412556', 'NE', '', 'Yea', 'Sen. Deb Fischer [R]', 'Republican']\n",
      "['412573', 'TX', '', 'Yea', 'Sen. Ted Cruz [R]', 'Republican']\n",
      "['412582', 'VA', '', 'Yea', 'Sen. Timothy Kaine [D]', 'Democrat']\n",
      "['412598', 'NJ', '', 'Yea', 'Sen. Cory Booker [D]', 'Democrat']\n",
      "['412665', 'AK', '', 'Not Voting', 'Sen. Dan Sullivan [R]', 'Republican']\n",
      "['412666', 'GA', '', 'Yea', 'Sen. David Perdue [R]', 'Republican']\n",
      "['412667', 'IA', '', 'Yea', 'Sen. Joni Ernst [R]', 'Republican']\n",
      "['412668', 'NC', '', 'Yea', 'Sen. Thom Tillis [R]', 'Republican']\n",
      "['412669', 'SD', '', 'Yea', 'Sen. Mike Rounds [R]', 'Republican']\n",
      "['412671', 'NE', '', 'Yea', 'Sen. Benjamin Sasse [R]', 'Republican']\n"
     ]
    }
   ],
   "source": [
    "import csv \n",
    "\n",
    "\n",
    "with open(\"./congress_data/congress_votes_114-2016_s20.csv\", encoding=\"utf\") as file:\n",
    "    for row in csv.reader(file):\n",
    "        print(row)"
   ]
  },
  {
   "cell_type": "code",
   "execution_count": 27,
   "metadata": {},
   "outputs": [
    {
     "name": "stdout",
     "output_type": "stream",
     "text": [
      "Counter({'blue': 2, 'red': 1})\n",
      "{'red': 1, 'blue': 2}\n"
     ]
    }
   ],
   "source": [
    "from collections import Counter \n",
    "\n",
    "c = Counter()\n",
    "\n",
    "c[\"red\"] +=1 \n",
    "c[\"blue\"] += 2\n",
    "\n",
    "print(c)\n",
    "\n",
    "print(dict(c))"
   ]
  },
  {
   "cell_type": "code",
   "execution_count": null,
   "metadata": {},
   "outputs": [
    {
     "name": "stdout",
     "output_type": "stream",
     "text": [
      "Overwriting congress.py\n"
     ]
    }
   ],
   "source": [
    "%%writefile congress.py\n",
    "import csv\n",
    "from collections import namedtuple, defaultdict\n",
    "from pprint import pprint\n",
    "import glob\n",
    "from typing import NamedTuple, DefaultDict, Tuple\n",
    "\n",
    "#Senator = namedtuple(\"Senator\", [\"name\", \"party\", \"state\"])\n",
    "Senator = NamedTuple(\"Senator\", [(\"name\", str), (\"party\", str), (\"state\", str)])\n",
    "VotingValue = int\n",
    "VotingHistory = Tuple[VotingValue, ...]\n",
    "# Load votes which were arranged by topic and accumlate vote by senator\n",
    "vote_value = {\"Yea\" : 1, \"Nay\" : -1, \"Not Voting\": 0}                           # type: Dict[str, VotingValue]\n",
    "accumelated_record = defaultdict(list)                                          # type: DefaulDict[Senator, List[VotingValue]]\n",
    "for filename in glob.glob(\"./congress_data/*.csv\"):\n",
    "    with open(filename, encoding=\"utf\") as file:\n",
    "        reader = csv.reader(file)\n",
    "        vote_topic = next(reader)\n",
    "        headers = next(reader)\n",
    "        for person, state, district, vote, name, party in csv.reader(file):\n",
    "            # person, state, district, vote, name, party\n",
    "            senator = Senator(name, party, state)\n",
    "            accumelated_record[senator].append(vote_value[vote])\n",
    "\n",
    "# transform the record into a plain dict that maps to tuple of votes \n",
    "record = {senator: tuple(votes) for senator, votes in accumelated_record.items()}           # type: Dict[Senator, VotingHistory]\n",
    "\n",
    "# Use k-means to locate the cluster centroids from patterns of votes \n",
    "\n",
    "pprint(record, width=500)"
   ]
  },
  {
   "cell_type": "code",
   "execution_count": null,
   "metadata": {},
   "outputs": [
    {
     "ename": "NameError",
     "evalue": "name 'record' is not defined",
     "output_type": "error",
     "traceback": [
      "\u001b[1;31m---------------------------------------------------------------------------\u001b[0m",
      "\u001b[1;31mNameError\u001b[0m                                 Traceback (most recent call last)",
      "Cell \u001b[1;32mIn[40], line 1\u001b[0m\n\u001b[1;32m----> 1\u001b[0m \u001b[43mrecord\u001b[49m\n",
      "\u001b[1;31mNameError\u001b[0m: name 'record' is not defined"
     ]
    }
   ],
   "source": []
  },
  {
   "cell_type": "code",
   "execution_count": null,
   "metadata": {},
   "outputs": [],
   "source": []
  }
 ],
 "metadata": {
  "kernelspec": {
   "display_name": "modernpython",
   "language": "python",
   "name": "python3"
  },
  "language_info": {
   "codemirror_mode": {
    "name": "ipython",
    "version": 3
   },
   "file_extension": ".py",
   "mimetype": "text/x-python",
   "name": "python",
   "nbconvert_exporter": "python",
   "pygments_lexer": "ipython3",
   "version": "3.10.16"
  }
 },
 "nbformat": 4,
 "nbformat_minor": 2
}

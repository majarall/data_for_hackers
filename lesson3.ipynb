{
 "cells": [
  {
   "cell_type": "code",
   "execution_count": 17,
   "metadata": {},
   "outputs": [],
   "source": [
    "# type hinting \n",
    "from typing import *\n",
    "from collections import OrderedDict, deque "
   ]
  },
  {
   "cell_type": "code",
   "execution_count": 9,
   "metadata": {},
   "outputs": [],
   "source": [
    "x = 10          # type: int "
   ]
  },
  {
   "cell_type": "code",
   "execution_count": 16,
   "metadata": {},
   "outputs": [
    {
     "data": {
      "text/plain": [
       "20"
      ]
     },
     "execution_count": 16,
     "metadata": {},
     "output_type": "execute_result"
    }
   ],
   "source": [
    "def f(x: int ,y: Optional[int]=None) -> int:\n",
    "    if y is None:\n",
    "        y = 10\n",
    "    return x + y\n",
    "\n",
    "f(10, None)"
   ]
  },
  {
   "cell_type": "code",
   "execution_count": null,
   "metadata": {},
   "outputs": [
    {
     "name": "stdout",
     "output_type": "stream",
     "text": [
      "5\n",
      "l\n",
      "h\n",
      "e\n",
      "l\n",
      "l\n",
      "o\n",
      "\n",
      "None\n",
      "3\n",
      "38\n",
      "19\n",
      "19\n",
      "38\n",
      "\n",
      "None\n",
      "3\n",
      "89\n",
      "10\n",
      "20\n",
      "89\n",
      "\n",
      "None\n"
     ]
    }
   ],
   "source": [
    "def g(x: List[int]):\n",
    "    print(len(x))\n",
    "    print(x[2])\n",
    "    for i in x:\n",
    "        print(i)\n",
    "    print() \n",
    "\n",
    "print(g(\"hello\"))\n",
    "print(g([19,19,38]))\n",
    "print(g((10,20,89)))\n"
   ]
  },
  {
   "cell_type": "code",
   "execution_count": 20,
   "metadata": {},
   "outputs": [
    {
     "data": {
      "text/plain": [
       "4.440892098500626e-16"
      ]
     },
     "execution_count": 20,
     "metadata": {},
     "output_type": "execute_result"
    }
   ],
   "source": [
    "1.1 + 2.2 - 3.3"
   ]
  },
  {
   "cell_type": "code",
   "execution_count": 21,
   "metadata": {},
   "outputs": [
    {
     "data": {
      "text/plain": [
       "True"
      ]
     },
     "execution_count": 21,
     "metadata": {},
     "output_type": "execute_result"
    }
   ],
   "source": [
    "from math import fsum \n",
    "\n",
    "fsum([0.1]*10) == 1.0"
   ]
  },
  {
   "cell_type": "code",
   "execution_count": null,
   "metadata": {},
   "outputs": [
    {
     "data": {
      "text/plain": [
       "{'raymond': 'red'}"
      ]
     },
     "execution_count": 22,
     "metadata": {},
     "output_type": "execute_result"
    }
   ],
   "source": [
    "from collections import defaultdict\n",
    "\n",
    "d = {\"raymond\":\"red\"}\n",
    "e = defaultdict(lambda: \"black\")    # if a key is missing \"black\" is returned\n",
    "e[\"raymond\"] = \"red\"\n",
    "d"
   ]
  },
  {
   "cell_type": "code",
   "execution_count": 23,
   "metadata": {},
   "outputs": [
    {
     "data": {
      "text/plain": [
       "defaultdict(<function __main__.<lambda>()>, {'raymond': 'red'})"
      ]
     },
     "execution_count": 23,
     "metadata": {},
     "output_type": "execute_result"
    }
   ],
   "source": [
    "e"
   ]
  },
  {
   "cell_type": "code",
   "execution_count": 24,
   "metadata": {},
   "outputs": [
    {
     "data": {
      "text/plain": [
       "'red'"
      ]
     },
     "execution_count": 24,
     "metadata": {},
     "output_type": "execute_result"
    }
   ],
   "source": [
    "e[\"raymond\"]\n"
   ]
  },
  {
   "cell_type": "code",
   "execution_count": 25,
   "metadata": {},
   "outputs": [
    {
     "ename": "KeyError",
     "evalue": "'rachel'",
     "output_type": "error",
     "traceback": [
      "\u001b[1;31m---------------------------------------------------------------------------\u001b[0m",
      "\u001b[1;31mKeyError\u001b[0m                                  Traceback (most recent call last)",
      "Cell \u001b[1;32mIn[25], line 1\u001b[0m\n\u001b[1;32m----> 1\u001b[0m \u001b[43md\u001b[49m\u001b[43m[\u001b[49m\u001b[38;5;124;43m\"\u001b[39;49m\u001b[38;5;124;43mrachel\u001b[39;49m\u001b[38;5;124;43m\"\u001b[39;49m\u001b[43m]\u001b[49m\n",
      "\u001b[1;31mKeyError\u001b[0m: 'rachel'"
     ]
    }
   ],
   "source": [
    "d[\"rachel\"]"
   ]
  },
  {
   "cell_type": "code",
   "execution_count": 26,
   "metadata": {},
   "outputs": [
    {
     "data": {
      "text/plain": [
       "'black'"
      ]
     },
     "execution_count": 26,
     "metadata": {},
     "output_type": "execute_result"
    }
   ],
   "source": [
    "e[\"rachel\"]"
   ]
  },
  {
   "cell_type": "code",
   "execution_count": null,
   "metadata": {},
   "outputs": [
    {
     "data": {
      "text/plain": [
       "defaultdict(set, {'t': {'tim', 'tom'}, 'm': {'martin', 'mary'}})"
      ]
     },
     "execution_count": 27,
     "metadata": {},
     "output_type": "execute_result"
    }
   ],
   "source": [
    "# Common usecase for defaultdict is grouping \n",
    "# A defaultdict creates a new container to store elements with a common feture\n",
    "\n",
    "d = defaultdict(set)\n",
    "d[\"t\"].add(\"tom\")\n",
    "d[\"m\"].add(\"mary\")\n",
    "d[\"t\"].add(\"tim\")\n",
    "d[\"m\"].add(\"mary\")\n",
    "d[\"m\"].add(\"martin\")\n",
    "\n",
    "d"
   ]
  },
  {
   "cell_type": "code",
   "execution_count": null,
   "metadata": {},
   "outputs": [
    {
     "data": {
      "text/plain": [
       "['david',\n",
       " 'betty',\n",
       " 'susan',\n",
       " 'mary',\n",
       " 'darlene',\n",
       " 'sandy',\n",
       " 'davin',\n",
       " 'shelly',\n",
       " 'becky',\n",
       " 'beatrice',\n",
       " 'tom',\n",
       " 'michael',\n",
       " 'wallace']"
      ]
     },
     "execution_count": 30,
     "metadata": {},
     "output_type": "execute_result"
    }
   ],
   "source": [
    "names = \"david betty susan mary darlene sandy davin shelly becky beatrice tom michael wallace\".split()\n"
   ]
  },
  {
   "cell_type": "code",
   "execution_count": 31,
   "metadata": {},
   "outputs": [
    {
     "data": {
      "text/plain": [
       "defaultdict(list,\n",
       "            {'d': ['david', 'darlene', 'davin'],\n",
       "             'b': ['betty', 'becky', 'beatrice'],\n",
       "             's': ['susan', 'sandy', 'shelly'],\n",
       "             'm': ['mary', 'michael'],\n",
       "             't': ['tom'],\n",
       "             'w': ['wallace']})"
      ]
     },
     "execution_count": 31,
     "metadata": {},
     "output_type": "execute_result"
    }
   ],
   "source": [
    "d = defaultdict(list)\n",
    "for name in names:\n",
    "    feature = name[0]\n",
    "    d[feature].append(name)\n",
    "\n",
    "d"
   ]
  },
  {
   "cell_type": "code",
   "execution_count": 34,
   "metadata": {},
   "outputs": [
    {
     "data": {
      "text/plain": [
       "defaultdict(list,\n",
       "            {'d': ['david'],\n",
       "             'y': ['betty', 'mary', 'sandy', 'shelly', 'becky'],\n",
       "             'n': ['susan', 'davin'],\n",
       "             'e': ['darlene', 'beatrice', 'wallace'],\n",
       "             'm': ['tom'],\n",
       "             'l': ['michael']})"
      ]
     },
     "execution_count": 34,
     "metadata": {},
     "output_type": "execute_result"
    }
   ],
   "source": [
    "d = defaultdict(list)\n",
    "for name in names:\n",
    "    feature = name[-1]\n",
    "    d[feature].append(name)\n",
    "d"
   ]
  },
  {
   "cell_type": "code",
   "execution_count": 35,
   "metadata": {},
   "outputs": [
    {
     "name": "stdout",
     "output_type": "stream",
     "text": [
      "['tom',\n",
      " 'mary',\n",
      " 'david',\n",
      " 'betty',\n",
      " 'susan',\n",
      " 'sandy',\n",
      " 'davin',\n",
      " 'becky',\n",
      " 'shelly',\n",
      " 'darlene',\n",
      " 'michael',\n",
      " 'wallace',\n",
      " 'beatrice']\n"
     ]
    }
   ],
   "source": [
    "# SELECT name from names ORDER BY len(name)\n",
    "from pprint import pprint \n",
    "\n",
    "pprint(sorted(names, key=len))"
   ]
  },
  {
   "cell_type": "code",
   "execution_count": 36,
   "metadata": {},
   "outputs": [
    {
     "data": {
      "text/plain": [
       "[('a', 'g'), ('b', 'h'), ('c', 'i'), ('d', 'j'), ('e', 'k'), ('d', 'l')]"
      ]
     },
     "execution_count": 36,
     "metadata": {},
     "output_type": "execute_result"
    }
   ],
   "source": [
    "list(zip(\"abcded\", \"ghijklm\"))"
   ]
  },
  {
   "cell_type": "code",
   "execution_count": 37,
   "metadata": {},
   "outputs": [
    {
     "data": {
      "text/plain": [
       "[('a', 'g'),\n",
       " ('b', 'h'),\n",
       " ('c', 'i'),\n",
       " ('d', 'j'),\n",
       " ('e', 'k'),\n",
       " ('d', 'l'),\n",
       " (None, 'm')]"
      ]
     },
     "execution_count": 37,
     "metadata": {},
     "output_type": "execute_result"
    }
   ],
   "source": [
    "from itertools import zip_longest\n",
    "\n",
    "list(zip_longest(\"abcded\", \"ghijklm\"))"
   ]
  },
  {
   "cell_type": "code",
   "execution_count": 39,
   "metadata": {},
   "outputs": [
    {
     "data": {
      "text/plain": [
       "[('a', 'g'),\n",
       " ('b', 'h'),\n",
       " ('c', 'i'),\n",
       " ('d', 'j'),\n",
       " ('e', 'k'),\n",
       " ('d', 'l'),\n",
       " ('x', 'm')]"
      ]
     },
     "execution_count": 39,
     "metadata": {},
     "output_type": "execute_result"
    }
   ],
   "source": [
    "list(zip_longest(\"abcded\", \"ghijklm\", fillvalue=\"x\"))"
   ]
  },
  {
   "cell_type": "code",
   "execution_count": 40,
   "metadata": {},
   "outputs": [
    {
     "data": {
      "text/plain": [
       "[(10, 30, 50), (20, 40, 60)]"
      ]
     },
     "execution_count": 40,
     "metadata": {},
     "output_type": "execute_result"
    }
   ],
   "source": [
    "m = [\n",
    "    [10,20],\n",
    "    [30,40],\n",
    "    [50,60],\n",
    "]\n",
    "\n",
    "list(zip([10, 20], [30, 40], [50, 60]))"
   ]
  },
  {
   "cell_type": "code",
   "execution_count": 42,
   "metadata": {},
   "outputs": [
    {
     "name": "stdout",
     "output_type": "stream",
     "text": [
      "[(10, 30, 50),\n",
      " (20, 40, 60)]\n"
     ]
    }
   ],
   "source": [
    "# we can write out the transpose like this\n",
    "pprint(list(zip([10, 20], [30, 40], [50, 60])), width=15)"
   ]
  },
  {
   "cell_type": "code",
   "execution_count": null,
   "metadata": {},
   "outputs": [
    {
     "name": "stdout",
     "output_type": "stream",
     "text": [
      "[(10, 30, 50),\n",
      " (20, 40, 60)]\n"
     ]
    }
   ],
   "source": [
    "# Or event better write it as *m\n",
    "pprint(list(zip(*m)), width=15)"
   ]
  },
  {
   "cell_type": "code",
   "execution_count": 45,
   "metadata": {},
   "outputs": [
    {
     "data": {
      "text/plain": [
       "[10, 20, 30, 40, 50, 60]"
      ]
     },
     "execution_count": 45,
     "metadata": {},
     "output_type": "execute_result"
    }
   ],
   "source": [
    "# Flattening a 2d structure\n",
    "flat_m = [x for row in m for x in row]\n",
    "\n",
    "flat_m"
   ]
  },
  {
   "cell_type": "code",
   "execution_count": 46,
   "metadata": {},
   "outputs": [
    {
     "data": {
      "text/plain": [
       "['a', 'b', 'c', 'd']"
      ]
     },
     "execution_count": 46,
     "metadata": {},
     "output_type": "execute_result"
    }
   ],
   "source": [
    "it = iter(\"abcd\")\n",
    "\n",
    "list(it)"
   ]
  },
  {
   "cell_type": "code",
   "execution_count": null,
   "metadata": {},
   "outputs": [],
   "source": []
  }
 ],
 "metadata": {
  "kernelspec": {
   "display_name": "modernpython",
   "language": "python",
   "name": "python3"
  },
  "language_info": {
   "codemirror_mode": {
    "name": "ipython",
    "version": 3
   },
   "file_extension": ".py",
   "mimetype": "text/x-python",
   "name": "python",
   "nbconvert_exporter": "python",
   "pygments_lexer": "ipython3",
   "version": "3.10.16"
  }
 },
 "nbformat": 4,
 "nbformat_minor": 2
}
